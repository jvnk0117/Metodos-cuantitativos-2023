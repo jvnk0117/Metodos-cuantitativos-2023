{
 "cells": [
  {
   "cell_type": "markdown",
   "id": "069744d7",
   "metadata": {},
   "source": [
    "# Bags of words"
   ]
  },
  {
   "cell_type": "markdown",
   "id": "cea7346d",
   "metadata": {},
   "source": [
    "## First we load our required packages"
   ]
  },
  {
   "cell_type": "code",
   "execution_count": 1,
   "id": "3da8b17c",
   "metadata": {},
   "outputs": [],
   "source": [
    "from math import sqrt, log\n",
    "from prettytable import PrettyTable"
   ]
  },
  {
   "cell_type": "markdown",
   "id": "3e4e4a0e",
   "metadata": {},
   "source": [
    "## Declaring lists in order to sort and clean our texts"
   ]
  },
  {
   "cell_type": "code",
   "execution_count": 2,
   "id": "ed2d70ba",
   "metadata": {},
   "outputs": [],
   "source": [
    "lines = []\n",
    "text1Words = []\n",
    "text2Words = []\n",
    "wordBag = []\n",
    "text1Vector = []\n",
    "text2Vector = []"
   ]
  },
  {
   "cell_type": "markdown",
   "id": "a46696be",
   "metadata": {},
   "source": [
    "## Opening our text file containing the required texts"
   ]
  },
  {
   "cell_type": "code",
   "execution_count": 3,
   "id": "20b7a53d",
   "metadata": {},
   "outputs": [],
   "source": [
    "with open('/home/jvnko/Metodos-cuantitativos-2023/Tercer-periodo/text.txt') as textFile:\n",
    "    for line in textFile:\n",
    "        lines.append(line.lower())"
   ]
  },
  {
   "cell_type": "markdown",
   "id": "f85dc823",
   "metadata": {},
   "source": [
    "## Gathering sentences into lists"
   ]
  },
  {
   "cell_type": "code",
   "execution_count": 4,
   "id": "b55f60bc",
   "metadata": {},
   "outputs": [],
   "source": [
    "for words in lines[0].split():\n",
    "    text1Words.append(words)\n",
    "\n",
    "\n",
    "for words in lines[1].split():\n",
    "    text2Words.append(words)\n",
    "\n",
    "for word in text1Words:\n",
    "    if word not in wordBag:\n",
    "        wordBag.append(word)\n",
    "\n",
    "for word in text2Words:\n",
    "    if word not in wordBag:\n",
    "        wordBag.append(word)"
   ]
  },
  {
   "cell_type": "markdown",
   "id": "309e4e16",
   "metadata": {},
   "source": [
    "## Vectorizing texts"
   ]
  },
  {
   "cell_type": "code",
   "execution_count": 5,
   "id": "51988630",
   "metadata": {},
   "outputs": [],
   "source": [
    "counter1 = 0\n",
    "counter2 = 0\n",
    "for word in wordBag:\n",
    "    for text1 in text1Words:\n",
    "        if word == text1:\n",
    "            counter1 += 1\n",
    "    text1Vector.append(counter1)\n",
    "    counter1 = 0\n",
    "\n",
    "    for text2 in text2Words:\n",
    "        if word == text2:\n",
    "            counter2 += 1\n",
    "    text2Vector.append(counter2)\n",
    "    counter2 = 0\n"
   ]
  },
  {
   "cell_type": "markdown",
   "id": "7d3764e1",
   "metadata": {},
   "source": [
    "## Calculating similarities"
   ]
  },
  {
   "cell_type": "code",
   "execution_count": 6,
   "id": "fdaa40f2",
   "metadata": {},
   "outputs": [],
   "source": [
    "vectorDividend = 0\n",
    "for i in range(len(text1Vector)):\n",
    "   vectorDividend += text1Vector[i] * text2Vector[i]\n",
    "\n",
    "text1Divisor = 0\n",
    "for i in range(len(text1Vector)):\n",
    "    text1Divisor += text1Vector[i] ** 2\n",
    "\n",
    "text2Divisor = 0\n",
    "for i in range(len(text2Vector)):\n",
    "    text2Divisor += text2Vector[i] ** 2"
   ]
  },
  {
   "cell_type": "markdown",
   "id": "55547672",
   "metadata": {},
   "source": [
    "## Computting cosine of vectors *u* and *v*"
   ]
  },
  {
   "cell_type": "code",
   "execution_count": 7,
   "id": "8ffc13cc",
   "metadata": {},
   "outputs": [
    {
     "name": "stdout",
     "output_type": "stream",
     "text": [
      "0.5698028822981898 : Likely similar\n"
     ]
    }
   ],
   "source": [
    "cosine = vectorDividend / (sqrt(text1Divisor) * sqrt(text2Divisor))\n",
    "if cosine <= 0:\n",
    "    print(cosine , ': Not quite similar')\n",
    "if cosine > 0 and cosine <0.5:\n",
    "    print(cosine, ': Somewhat similar')\n",
    "if cosine > 0.5:\n",
    "    print(cosine , ': Likely similar')"
   ]
  },
  {
   "cell_type": "markdown",
   "id": "62fcdaaa",
   "metadata": {},
   "source": [
    "# TF-IDF vectorization"
   ]
  },
  {
   "cell_type": "markdown",
   "id": "05d776ad",
   "metadata": {},
   "source": [
    "## Defining our main lists and gathering frequencies on our word bag"
   ]
  },
  {
   "cell_type": "code",
   "execution_count": 8,
   "id": "9d271fce",
   "metadata": {},
   "outputs": [],
   "source": [
    "tfText1 = []\n",
    "tfText2 = []\n",
    "\n",
    "\n",
    "tfCounter1 = 0\n",
    "for word in wordBag:\n",
    "    for tfText in text1Words:\n",
    "        if word == tfText:\n",
    "            tfCounter1 += 1\n",
    "    tfText1.append(tfCounter1/ len(text1Words))\n",
    "    tfCounter1 = 0\n",
    "\n",
    "tfCounter2 = 0\n",
    "for word in wordBag:\n",
    "    for tfText in text2Words:\n",
    "        if word == tfText:\n",
    "            tfCounter2 += 1\n",
    "    tfText2.append(tfCounter2/ len(text2Words))\n",
    "    tfCounter2 = 0\n",
    "\n",
    "idfList = []\n",
    "documentsContainingWord = 0\n",
    "idf = 0\n",
    "for word in wordBag:\n",
    "    if word in text1Words:\n",
    "        documentsContainingWord += 1\n",
    "    if word in text2Words:\n",
    "        documentsContainingWord += 1\n",
    "    idf = log(len(lines) / (documentsContainingWord + 1)) + 1\n",
    "    idfList.append(round(idf,9))\n",
    "    idf = 0\n",
    "    documentsContainingWord = 0\n"
   ]
  },
  {
   "cell_type": "markdown",
   "id": "98c1de60",
   "metadata": {},
   "source": [
    "## Computing our final vectors"
   ]
  },
  {
   "cell_type": "code",
   "execution_count": 9,
   "id": "a5dee88a",
   "metadata": {},
   "outputs": [
    {
     "name": "stdout",
     "output_type": "stream",
     "text": [
      "+-------+---------------------+---------------------+-------------+----------------------+---------------------+\n",
      "| Words |      TF(text 1)     |      TF(text 2)     |     IDF     |   TF(text1 * IDF)    |   TF(text2 * IDF)   |\n",
      "+-------+---------------------+---------------------+-------------+----------------------+---------------------+\n",
      "|  dog  | 0.09090909090909091 |         0.0         |     1.0     | 0.09090909090909091  |         0.0         |\n",
      "| hates | 0.09090909090909091 |         0.0         |     1.0     | 0.09090909090909091  |         0.0         |\n",
      "|   a   | 0.09090909090909091 | 0.14285714285714285 | 0.594534892 | 0.054048626545454545 |     0.084933556     |\n",
      "|  cat  | 0.09090909090909091 | 0.14285714285714285 | 0.594534892 | 0.054048626545454545 |     0.084933556     |\n",
      "|   it  | 0.09090909090909091 |         0.0         |     1.0     | 0.09090909090909091  |         0.0         |\n",
      "| loves | 0.09090909090909091 | 0.14285714285714285 | 0.594534892 | 0.054048626545454545 |     0.084933556     |\n",
      "|   to  | 0.09090909090909091 | 0.14285714285714285 | 0.594534892 | 0.054048626545454545 |     0.084933556     |\n",
      "|   go  | 0.09090909090909091 |         0.0         |     1.0     | 0.09090909090909091  |         0.0         |\n",
      "|  out  | 0.09090909090909091 |         0.0         |     1.0     | 0.09090909090909091  |         0.0         |\n",
      "|  and  | 0.09090909090909091 |         0.0         |     1.0     | 0.09090909090909091  |         0.0         |\n",
      "|  play | 0.09090909090909091 | 0.14285714285714285 | 0.594534892 | 0.054048626545454545 |     0.084933556     |\n",
      "|  with |         0.0         | 0.14285714285714285 |     1.0     |         0.0          | 0.14285714285714285 |\n",
      "|  ball |         0.0         | 0.14285714285714285 |     1.0     |         0.0          | 0.14285714285714285 |\n",
      "+-------+---------------------+---------------------+-------------+----------------------+---------------------+\n"
     ]
    }
   ],
   "source": [
    "tfText1_IDF = []\n",
    "tfText2_IDF = []\n",
    "for i in range(0,len(wordBag)):\n",
    "    tfText1_IDF.append(tfText1[i] * idfList[i])\n",
    "    \n",
    "for i in range(0,len(wordBag)):\n",
    "    tfText2_IDF.append(tfText2[i] * idfList[i])\n",
    "\n",
    "tfTable = PrettyTable()\n",
    "tfTable.add_column('Words', wordBag)\n",
    "tfTable.add_column('TF(text 1)', tfText1)\n",
    "tfTable.add_column('TF(text 2)', tfText2)\n",
    "tfTable.add_column('IDF', idfList)\n",
    "tfTable.add_column('TF(text1 * IDF)', tfText1_IDF)\n",
    "tfTable.add_column('TF(text2 * IDF)', tfText2_IDF)\n",
    "\n",
    "print(tfTable)"
   ]
  }
 ],
 "metadata": {
  "authors": [
   {
    "name": "Alejandro Perez Gonzalez"
   }
  ],
  "kernelspec": {
   "display_name": "Python 3 (ipykernel)",
   "language": "python",
   "name": "python3"
  },
  "language_info": {
   "codemirror_mode": {
    "name": "ipython",
    "version": 3
   },
   "file_extension": ".py",
   "mimetype": "text/x-python",
   "name": "python",
   "nbconvert_exporter": "python",
   "pygments_lexer": "ipython3",
   "version": "3.11.3"
  }
 },
 "nbformat": 4,
 "nbformat_minor": 5
}
