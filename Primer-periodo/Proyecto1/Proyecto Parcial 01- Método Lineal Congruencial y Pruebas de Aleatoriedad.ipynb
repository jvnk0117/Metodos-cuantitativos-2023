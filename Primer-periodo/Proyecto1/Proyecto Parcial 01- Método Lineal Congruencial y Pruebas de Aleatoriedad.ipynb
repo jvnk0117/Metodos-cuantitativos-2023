{
 "cells": [
  {
   "cell_type": "markdown",
   "id": "8a2e7e86",
   "metadata": {},
   "source": [
    "*Alejandro Perez Gonzalez A01746643*"
   ]
  },
  {
   "cell_type": "markdown",
   "id": "7fa43351",
   "metadata": {},
   "source": [
    "Loading required packages"
   ]
  },
  {
   "cell_type": "code",
   "execution_count": 1,
   "id": "dfb128f1",
   "metadata": {},
   "outputs": [],
   "source": [
    "from prettytable import PrettyTable\n",
    "from math import sqrt"
   ]
  },
  {
   "cell_type": "markdown",
   "id": "ecdc5f92",
   "metadata": {},
   "source": [
    "Reading datasets and converting them into lists"
   ]
  },
  {
   "cell_type": "markdown",
   "id": "754e9246",
   "metadata": {},
   "source": [
    "# Converting datasets into lists"
   ]
  },
  {
   "cell_type": "code",
   "execution_count": 2,
   "id": "e80e60d4",
   "metadata": {},
   "outputs": [],
   "source": [
    "chiFile = 'chi_data.txt'\n",
    "runsfile = 'runs_data.txt'\n",
    "\n",
    "def fileToList(file):\n",
    "    with open(file,'r') as f:\n",
    "        data = [line.strip() for line in f] \n",
    "    fileList = []\n",
    "\n",
    "    for line in data:\n",
    "        value = float(line)\n",
    "        fileList.append(value)\n",
    "    return fileList"
   ]
  },
  {
   "cell_type": "markdown",
   "id": "0b495c19",
   "metadata": {},
   "source": [
    "# Linear congruential Method\n",
    "\n",
    "Integrating all the methodology in a single function."
   ]
  },
  {
   "cell_type": "code",
   "execution_count": 3,
   "id": "c9d0349f",
   "metadata": {},
   "outputs": [],
   "source": [
    "def linearCongruentialMethod(xi, a, c, m, iter):\n",
    "    randomNumbers=[]\n",
    "    if iter <= 0:\n",
    "        raise ValueError(\"Incorect number of iterations, must be above than cero\")\n",
    "    else:\n",
    "        for i in range(1,iter +1):\n",
    "\n",
    "            x = ((a * xi)+ c) % m \n",
    "            r = x/m\n",
    "            randomNumbers.append(r)\n",
    "            \n",
    "            xi = x\n",
    "\n",
    "    table = PrettyTable()\n",
    "    table.add_column('LCG random numbers', randomNumbers)\n",
    "    return table\n"
   ]
  },
  {
   "cell_type": "markdown",
   "id": "622219d9",
   "metadata": {},
   "source": [
    "We create a table using **PrettyTable** package"
   ]
  },
  {
   "cell_type": "code",
   "execution_count": 4,
   "id": "44c41e08",
   "metadata": {},
   "outputs": [
    {
     "name": "stdout",
     "output_type": "stream",
     "text": [
      "+--------------------+\n",
      "| LCG random numbers |\n",
      "+--------------------+\n",
      "|       0.4375       |\n",
      "|       0.0375       |\n",
      "|       0.2375       |\n",
      "|       0.6375       |\n",
      "|       0.4375       |\n",
      "|       0.0375       |\n",
      "|       0.2375       |\n",
      "|       0.6375       |\n",
      "|       0.4375       |\n",
      "|       0.0375       |\n",
      "+--------------------+\n"
     ]
    }
   ],
   "source": [
    "print(linearCongruentialMethod(6,32,3,80,10))"
   ]
  },
  {
   "cell_type": "markdown",
   "id": "1113aa68",
   "metadata": {},
   "source": [
    "# Chi-squared method\n",
    "\n",
    "Integrating Chi-squared method into a function given a list generated from the first section"
   ]
  },
  {
   "cell_type": "code",
   "execution_count": 5,
   "id": "38da0783",
   "metadata": {},
   "outputs": [],
   "source": [
    "def chiSquare(list):\n",
    "    #Computing interval list and formating it\n",
    "\n",
    "    intervalList = []\n",
    "\n",
    "    #given a number of clases C= 10 and a weight W = 0.0001\n",
    "    holder = 0\n",
    "    for i in range(0,10): \n",
    "        intervalList.append(holder / 10)\n",
    "        holder += 1\n",
    "        intervalList.append(holder / 10)\n",
    "\n",
    "    intervalListTuple = [x for x in zip(*[iter(intervalList)]*2)]\n",
    "\n",
    "    formatedList = []\n",
    "    for j in intervalList:\n",
    "        j = \"{0:.4f}\".format(j)\n",
    "        formatedList.append(j)\n",
    "\n",
    "    formatedListTuple = [x for x in zip(*[iter(formatedList)]*2)]\n",
    "\n",
    "    #getting observed results\n",
    "    observedList = []\n",
    "    counter = 0\n",
    "    for i in intervalListTuple:\n",
    "        for j in list:\n",
    "            if j >= i[0] and j <= i[1]:\n",
    "                counter += 1\n",
    "\n",
    "\n",
    "        observedList.append(counter)\n",
    "        counter = 0\n",
    "\n",
    "    #Getting expected values, since we have 30 values and 10 clases, 30 / 10 = 3\n",
    "    expectedList = []\n",
    "    for i in observedList:\n",
    "        expectedList.append(3)\n",
    "\n",
    "\n",
    "    #Computing chi square table\n",
    "    chisquareList = []\n",
    "    for i in range(0,10):\n",
    "        chiSquareVal = (observedList[i] - expectedList[i] ) ** 2 / expectedList[i]\n",
    "        chisquareList.append(chiSquareVal)\n",
    "\n",
    "    x_total  = 0\n",
    "    for j in chisquareList:\n",
    "        x_total += j \n",
    "\n",
    "    formatedChiSquareList = []\n",
    "    for j in chisquareList:\n",
    "        j = \"{0:.4f}\".format(j)\n",
    "        formatedChiSquareList.append(j)\n",
    "\n",
    "    chi_table = PrettyTable()\n",
    "    chi_table.add_column('Intervals',formatedListTuple)\n",
    "    chi_table.add_column('Observed (O)',observedList)\n",
    "    chi_table.add_column('Expected (E)', expectedList)\n",
    "    chi_table.add_column('(O - E) ^ 2 / E', formatedChiSquareList)\n",
    "\n",
    "    print('H0: Generated numbers are not different from the uniform distribution')\n",
    "    print('H1: Generated numbers are different from the uniform distribution')\n",
    "    print('\\n')\n",
    "    if x_total > 16.91:\n",
    "        print('Since', round(x_total,4),' > 16.91, H0 is rejected')\n",
    "    else:\n",
    "        print('Since', round(x_total,4),' < 16.91, H0 is accepted')\n",
    "    print('---------------------------------------------------- X\\u00b2: ',round(x_total,4))\n",
    "\n",
    "    return(chi_table)"
   ]
  },
  {
   "cell_type": "markdown",
   "id": "fe822f7b",
   "metadata": {},
   "source": [
    "As one of the steps above, we generate a list with the required \n",
    "information                                "
   ]
  },
  {
   "cell_type": "code",
   "execution_count": 6,
   "id": "be541dc4",
   "metadata": {},
   "outputs": [
    {
     "name": "stdout",
     "output_type": "stream",
     "text": [
      "H0: Generated numbers are not different from the uniform distribution\n",
      "H1: Generated numbers are different from the uniform distribution\n",
      "\n",
      "\n",
      "Since 19.3333  > 16.91, H0 is rejected\n",
      "---------------------------------------------------- X²:  19.3333\n",
      "+----------------------+--------------+--------------+-----------------+\n",
      "|      Intervals       | Observed (O) | Expected (E) | (O - E) ^ 2 / E |\n",
      "+----------------------+--------------+--------------+-----------------+\n",
      "| ('0.0000', '0.1000') |      0       |      3       |      3.0000     |\n",
      "| ('0.1000', '0.2000') |      3       |      3       |      0.0000     |\n",
      "| ('0.2000', '0.3000') |      3       |      3       |      0.0000     |\n",
      "| ('0.3000', '0.4000') |      4       |      3       |      0.3333     |\n",
      "| ('0.4000', '0.5000') |      5       |      3       |      1.3333     |\n",
      "| ('0.5000', '0.6000') |      6       |      3       |      3.0000     |\n",
      "| ('0.6000', '0.7000') |      0       |      3       |      3.0000     |\n",
      "| ('0.7000', '0.8000') |      2       |      3       |      0.3333     |\n",
      "| ('0.8000', '0.9000') |      7       |      3       |      5.3333     |\n",
      "| ('0.9000', '1.0000') |      0       |      3       |      3.0000     |\n",
      "+----------------------+--------------+--------------+-----------------+\n"
     ]
    }
   ],
   "source": [
    "chiList = fileToList(chiFile)\n",
    "print(chiSquare(chiList))"
   ]
  },
  {
   "cell_type": "markdown",
   "id": "f4e16574",
   "metadata": {},
   "source": [
    "# Runs Test\n",
    "\n",
    "Integrating Chi-squared method into a function given a list generated from the first section"
   ]
  },
  {
   "cell_type": "code",
   "execution_count": 9,
   "id": "7cf16312",
   "metadata": {},
   "outputs": [],
   "source": [
    "def runsTest(list):\n",
    "    sign_list = []\n",
    "    for i in range(len(list) - 1 ):\n",
    "        if list[i+1] > list[i] and i < len(list):\n",
    "            sign_list.append('+')\n",
    "        elif list[i+1] < list[i] and i < len(list):\n",
    "            sign_list.append('-')\n",
    "\n",
    "    runs = 0\n",
    "    for j in range(len(sign_list) - 1):\n",
    "        if sign_list[j+1] != sign_list[j]:\n",
    "            runs += 1\n",
    "            \n",
    "    total_runs = runs + 1\n",
    "    total_signs = len(sign_list)\n",
    "#Statistics\n",
    "    print(\"H0: Appereance of the numbers is random\")\n",
    "    print(\"H1: Appereance of the numbers is not random\\n\")\n",
    "    \n",
    "    print(\"Generated signs: \\n\",sign_list)\n",
    "    \n",
    "\n",
    "    miu = round((2 * total_signs - 1) / 3, 4)\n",
    "    sigma = round(sqrt((16 * total_signs - 29) / 90), 4)\n",
    "    zscore = round((runs - miu) / sigma, 4)\n",
    "   \n",
    "    if zscore < 1.96:\n",
    "        print(\"Since |\" + str(zscore) + \"| < |1.96|, H0 is not rejected\")\n",
    "    else:\n",
    "        print(\"Since |\" + str(zscore) + \"| > |1.96|, H0 is rejected\")\n",
    "        \n",
    "    runs_table = PrettyTable()\n",
    "    runs_table.add_column(\"Statistics\",[\"Miu\",\"Sigma\",\"Zscore\"])\n",
    "    runs_table.add_column(\"Value\",[miu,sigma,zscore])\n",
    "    return(runs_table)\n"
   ]
  },
  {
   "cell_type": "code",
   "execution_count": 10,
   "id": "1a5a57cd",
   "metadata": {},
   "outputs": [
    {
     "name": "stdout",
     "output_type": "stream",
     "text": [
      "H0: Appereance of the numbers is random\n",
      "H1: Appereance of the numbers is not random\n",
      "\n",
      "Generated signs: \n",
      " ['+', '-', '-', '+', '-', '+', '-', '+', '+', '+', '+', '+', '-']\n",
      "Since |-0.9454| < |1.96|, H0 is not rejected\n",
      "+------------+---------+\n",
      "| Statistics |  Value  |\n",
      "+------------+---------+\n",
      "|    Miu     |  8.3333 |\n",
      "|   Sigma    |  1.4103 |\n",
      "|   Zscore   | -0.9454 |\n",
      "+------------+---------+\n"
     ]
    }
   ],
   "source": [
    "runsList = fileToList(runsfile)\n",
    "print(runsTest(runsList))"
   ]
  },
  {
   "cell_type": "code",
   "execution_count": null,
   "id": "a0c9db32",
   "metadata": {},
   "outputs": [],
   "source": []
  }
 ],
 "metadata": {
  "kernelspec": {
   "display_name": "Python 3 (ipykernel)",
   "language": "python",
   "name": "python3"
  },
  "language_info": {
   "codemirror_mode": {
    "name": "ipython",
    "version": 3
   },
   "file_extension": ".py",
   "mimetype": "text/x-python",
   "name": "python",
   "nbconvert_exporter": "python",
   "pygments_lexer": "ipython3",
   "version": "3.10.10"
  }
 },
 "nbformat": 4,
 "nbformat_minor": 5
}
